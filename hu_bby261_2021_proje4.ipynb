{
  "cells": [
    {
      "cell_type": "markdown",
      "metadata": {
        "id": "view-in-github",
        "colab_type": "text"
      },
      "source": [
        "<a href=\"https://colab.research.google.com/github/berfiinkorukcu/hu-bby261-2021-proje1/blob/main/hu_bby261_2021_proje4.ipynb\" target=\"_parent\"><img src=\"https://colab.research.google.com/assets/colab-badge.svg\" alt=\"Open In Colab\"/></a>"
      ]
    },
    {
      "cell_type": "code",
      "execution_count": 1,
      "metadata": {
        "id": "-ZMgCvSRFqxE",
        "colab": {
          "base_uri": "https://localhost:8080/",
          "height": 539
        },
        "outputId": "2a8dead9-75ac-4a6b-e396-783ab80c096e"
      },
      "outputs": [
        {
          "output_type": "stream",
          "name": "stdout",
          "text": [
            "Devir sayısı giriniz.800\n",
            "Km değeri giriniz.1000\n",
            "5.0  km = 3.0  mi\n",
            "8.0  km = 4.0  mi\n",
            "15.0  km = 9.0  mi\n",
            "22.0  km = 13.0  mi\n",
            "36.0  km = 22.0  mi\n",
            "69.0  km = 42.0  mi\n",
            "74.0  km = 45.0  mi\n",
            "96.0  km = 59.0  mi\n",
            "102.0  km = 63.0  mi\n",
            "120.0  km = 74.0  mi\n",
            "Finished training the model\n",
            "[[619.5875]]\n",
            "(0, 6214)\n"
          ]
        },
        {
          "output_type": "display_data",
          "data": {
            "image/png": "[encoded data removed]",
            "text/plain": [
              "<Figure size 432x288 with 1 Axes>"
            ]
          },
          "metadata": {
            "needs_background": "light"
          }
        }
      ],
      "source": [
        "import tensorflow as tf\n",
        "import numpy as np\n",
        "import logging\n",
        "import matplotlib.pyplot as plt\n",
        "\n",
        "logger = tf.get_logger()\n",
        "logger.setLevel(logging.ERROR)\n",
        "\n",
        "tekrar = int(input(\"Devir sayısı giriniz.\"))\n",
        "donustur = int(input(\"Km değeri giriniz.\"))\n",
        "final = donustur*0,6214\n",
        "\n",
        "km = np.array([5, 8, 15, 22, 36, 69,  74, 96, 102, 120],  dtype=float)\n",
        "miles = np.array([3, 4, 9, 13, 22, 42, 45, 59, 63, 74],  dtype=float)\n",
        "\n",
        "for i,c in enumerate(km):\n",
        "  print(\"{}  km = {}  mi\".format(c, miles[i]))\n",
        "\n",
        "l0 = tf.keras.layers.Dense(units=1, input_shape=[1])\n",
        "\n",
        "model = tf.keras.Sequential([l0])\n",
        "model.compile(loss='mean_squared_error',\n",
        "              optimizer=tf.keras.optimizers.Adam(0.1))\n",
        "\n",
        "history = model.fit(km, miles, epochs=tekrar, verbose=False)\n",
        "\n",
        "print(\"Finished training the model\")\n",
        "\n",
        "plt.xlabel('Epoch Number')\n",
        "plt.ylabel(\"Loss Magnitude\")\n",
        "plt.plot(history.history['loss'])\n",
        "\n",
        "print(model.predict([donustur]))\n",
        "print(final)"
      ]
    }
  ],
  "metadata": {
    "colab": {
      "collapsed_sections": [],
      "name": "hu-bby261-2021-proje4",
      "toc_visible": true,
      "provenance": [],
      "include_colab_link": true
    },
    "kernelspec": {
      "display_name": "Python 3",
      "name": "python3"
    }
  },
  "nbformat": 4,
  "nbformat_minor": 0
}